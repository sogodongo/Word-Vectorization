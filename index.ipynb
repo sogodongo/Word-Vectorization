{
 "cells": [
  {
   "cell_type": "markdown",
   "metadata": {},
   "source": [
    "# Word Vectorization - Lab\n",
    "\n",
    "## Introduction\n",
    "\n",
    "In this lab, we'll tokenize and vectorize text documents, create and use a bag of words, and identify words unique to individual documents using TF-IDF vectorization. \n",
    "\n",
    "\n",
    "## Objectives\n",
    "\n",
    "In this lab we will:  \n",
    "\n",
    "- Implement tokenization and count vectorization from scratch \n",
    "- Implement TF-IDF from scratch \n",
    "- Use dimensionality reduction on vectorized text data to create and interpret visualizations \n",
    "\n",
    "## Let's get started!\n",
    "\n",
    "Run the cell below to import everything necessary for this lab.  "
   ]
  },
  {
   "cell_type": "code",
   "execution_count": 1,
   "metadata": {},
   "outputs": [],
   "source": [
    "import pandas as pd\n",
    "import numpy as np\n",
    "from mpl_toolkits.mplot3d import Axes3D\n",
    "import matplotlib.pyplot as plt\n",
    "%matplotlib inline\n",
    "from sklearn.manifold import TSNE\n",
    "from nltk.tokenize import word_tokenize\n",
    "import nltk\n",
    "nltk.download('punkt', quiet=True)\n",
    "np.random.seed(0)"
   ]
  },
  {
   "cell_type": "markdown",
   "metadata": {},
   "source": [
    "### Our Corpus\n",
    "\n",
    "In this lab, we'll be working with 20 different documents, each containing song lyrics from either Garth Brooks or Kendrick Lamar albums.  \n",
    "\n",
    "The songs are contained within the `data` subdirectory, contained within the same folder as this lab.  Each song is stored in a single file, with files ranging from `song1.txt` to `song20.txt`.  \n",
    "\n",
    "To make it easy to read in all of the documents, use a list comprehension to create a list containing the name of every single song file in the cell below. "
   ]
  },
  {
   "cell_type": "code",
   "execution_count": 11,
   "metadata": {},
   "outputs": [
    {
     "data": {
      "text/plain": [
       "['lyrics_url.txt',\n",
       " 'song1.txt',\n",
       " 'song10.txt',\n",
       " 'song11.txt',\n",
       " 'song12.txt',\n",
       " 'song13.txt',\n",
       " 'song14.txt',\n",
       " 'song15.txt',\n",
       " 'song16.txt',\n",
       " 'song17.txt',\n",
       " 'song18.txt',\n",
       " 'song19.txt',\n",
       " 'song2.txt',\n",
       " 'song20.txt',\n",
       " 'song3.txt',\n",
       " 'song4.txt',\n",
       " 'song5.txt',\n",
       " 'song6.txt',\n",
       " 'song7.txt',\n",
       " 'song8.txt',\n",
       " 'song9.txt']"
      ]
     },
     "execution_count": 11,
     "metadata": {},
     "output_type": "execute_result"
    }
   ],
   "source": [
    "import os\n",
    "\n",
    "# Directory path where the song files are located\n",
    "directory_path = \"data\"\n",
    "\n",
    "# List comprehension to get all the file names in the directory\n",
    "filenames = [filename for filename in os.listdir(directory_path) if filename.endswith(\".txt\")]\n",
    "filenames"
   ]
  },
  {
   "cell_type": "markdown",
   "metadata": {},
   "source": [
    "Next, let's import a single song to see what our text looks like so that we can make sure we clean and tokenize it correctly. \n",
    "\n",
    "Use the code in the cell below to read in the lyrics from `song18.txt` as a list of lines, just using vanilla Python:"
   ]
  },
  {
   "cell_type": "code",
   "execution_count": 3,
   "metadata": {},
   "outputs": [
    {
     "data": {
      "text/plain": [
       "['[Kendrick Lamar:]\\n',\n",
       " \"Two wrongs don't make us right away\\n\",\n",
       " \"Tell me something's wrong\\n\",\n",
       " 'Party all of our lives away\\n',\n",
       " 'To take you on\\n',\n",
       " '[Zacari:]\\n',\n",
       " 'Oh, baby I want you\\n',\n",
       " 'Baby I need you\\n',\n",
       " 'I wanna see you\\n',\n",
       " 'Baby I wanna go out yeah\\n',\n",
       " 'Baby I wanna go out yeah\\n',\n",
       " 'Baby I want you\\n',\n",
       " 'Baby I need you\\n',\n",
       " 'I wanna see you\\n',\n",
       " 'Baby I wanna go out yeah\\n',\n",
       " 'Baby I wanna go out yeah\\n',\n",
       " 'All night (all night, all night)\\n',\n",
       " 'All night\\n',\n",
       " \"Your body's on fire\\n\",\n",
       " 'And your drinks on ice\\n',\n",
       " 'All night (all night, all night)\\n',\n",
       " 'All night\\n',\n",
       " \"Your body's on fire\\n\",\n",
       " 'And your drinks on ice\\n',\n",
       " '[Babes Wodumo:]\\n',\n",
       " 'Oh my word oh my gosh oh my word (Oh my gosh)\\n',\n",
       " 'Oh my word oh my gosh oh my word (Oh my gosh)\\n',\n",
       " 'Oh my word oh my gosh oh my word (Oh my gosh)\\n',\n",
       " 'Oh my word oh my gosh oh my word (Oh my gosh)\\n',\n",
       " 'Everybody say kikiritikiki (kikiritikiki)\\n',\n",
       " 'Everybody say kikiritikiki (kikiritikiki)\\n',\n",
       " 'Everybody say kikiritikiki (kikiritikiki)\\n',\n",
       " 'Everybody say kikiritikiki (kikiritikiki)\\n',\n",
       " \"Ung'bambe, ung'dedele. Ung'bhasobhe, ung'gudluke\\n\",\n",
       " \"Ung'bambe, ung'dedele. Ung'bhasobhe, ung'gudluke\\n\",\n",
       " \"Ung'bambe, ung'dedele. Ung'bhasobhe, ung'gudluke\\n\",\n",
       " \"Ung'bambe, ung'dedele. Ung'bhasobhe, ung'gudluke\\n\",\n",
       " '[Zacari:]\\n',\n",
       " 'Baby I want you\\n',\n",
       " 'Baby I need you\\n',\n",
       " 'I wanna see you\\n',\n",
       " 'Baby I wanna go out yeah\\n',\n",
       " 'Baby I wanna go out yeah\\n',\n",
       " 'Baby I want you\\n',\n",
       " 'Baby I need you\\n',\n",
       " 'I wanna see you\\n',\n",
       " 'Baby I wanna go out yeah\\n',\n",
       " 'Baby I wanna go out yeah\\n',\n",
       " 'All night (all night all night)\\n',\n",
       " 'All night\\n',\n",
       " \"Your body's on fire\\n\",\n",
       " 'And your drinks on ice\\n',\n",
       " 'All night (all night all night)\\n',\n",
       " 'All night\\n',\n",
       " \"Your body's on fire\\n\",\n",
       " 'And your drinks on ice\\n',\n",
       " '[Kendrick Lamar:]\\n',\n",
       " '(We go)\\n',\n",
       " 'High up (High up)\\n',\n",
       " 'High up (High up)\\n',\n",
       " 'High up (High up)\\n',\n",
       " 'High up (High up)\\n',\n",
       " 'High up (High up)\\n',\n",
       " 'High up (High up)\\n',\n",
       " 'High up (High up)\\n',\n",
       " 'High up (High up)\\n',\n",
       " '[?]\\n',\n",
       " '[Zacari:]\\n',\n",
       " 'Baby I want you\\n',\n",
       " 'Baby I need you\\n',\n",
       " 'I wanna see you\\n',\n",
       " 'Baby I wanna go out yeah\\n',\n",
       " 'Baby I wanna go out yeah\\n',\n",
       " 'Baby I want you\\n',\n",
       " 'Baby I need you\\n',\n",
       " 'I wanna see you\\n',\n",
       " 'Baby I wanna go out yeah\\n',\n",
       " 'Baby I wanna go out yeah\\n',\n",
       " 'All night (all night all night)\\n',\n",
       " 'All night\\n',\n",
       " \"Your body's on fire\\n\",\n",
       " 'And your drinks on ice\\n',\n",
       " 'All night (all night all night)\\n',\n",
       " 'All night\\n',\n",
       " \"Your body's on fire\\n\",\n",
       " 'And your drinks on ice\\n']"
      ]
     },
     "execution_count": 3,
     "metadata": {},
     "output_type": "execute_result"
    }
   ],
   "source": [
    "# Import and print song18.txt\n",
    "with open('data/song18.txt') as f:\n",
    "    test_song = f.readlines()\n",
    "    \n",
    "test_song"
   ]
  },
  {
   "cell_type": "markdown",
   "metadata": {},
   "source": [
    "### Tokenizing our Data\n",
    "\n",
    "Before we can create a bag of words or vectorize each document, we need to clean it up and split each song into an array of individual words.\n",
    "\n",
    "Consider the following sentences from the example above:\n",
    "\n",
    "`\"Two wrongs don't make us right away\\n\", \"Tell me something's wrong\\n\"`\n",
    "\n",
    "After tokenization, this should look like:\n",
    "\n",
    "`['two', 'wrongs', 'dont', 'make', 'us', 'right', 'away', 'tell', 'me', 'somethings', 'wrong']`\n",
    "\n",
    "Tokenization is pretty tedious if we handle it manually, and would probably make use of regular expressions, which is outside the scope of this lab. In order to keep this lab moving, we'll use a library function to clean and tokenize our data so that we can move onto vectorization.  \n",
    "\n",
    "Tokenization is a required task for just about any Natural Language Processing (NLP) task, so great industry-standard tools exist to tokenize things for us, so that we can spend our time on more important tasks without getting bogged down hunting every special symbol or punctuation in a massive dataset. For this lab, we'll make use of the tokenizer in the amazing `nltk` library, which is short for _Natural Language Tool Kit_.\n",
    "\n",
    "**_NOTE:_** NLTK requires extra installation methods to be run the first time certain methods are used.  If `nltk` throws you an error about needing to install additional packages, follow the instructions in the error message to install the dependencies, and then rerun the cell.  "
   ]
  },
  {
   "cell_type": "markdown",
   "metadata": {},
   "source": [
    "Before we tokenize, however, we need to do one more step! Computers are very particular about strings. If we tokenized our data in its current state, we would run into the following problems:\n",
    "\n",
    "- Counting things that aren't actually words.  In the example above, `\"[Kendrick Lamar:]\"` is a note specifying who is speaking, not a lyric contained in the actual song, so it should be removed. \n",
    "- Punctuation and capitalization would mess up our word counts. To the Python interpreter, `all`, `All`, and `(all` are unique words, and would all be counted separately.  We need to remove punctuation and capitalization, so that all words will be counted correctly. \n",
    "\n",
    "Before we tokenize our songs, we'll do only a small manual bit of cleaning. \n",
    "\n",
    "In the cell below, write a function to:\n",
    "- remove lines that just contain `['artist names']`\n",
    "- join the list of strings into one big string for the entire song\n",
    "- remove newline characters `\\n`\n",
    "- remove the following punctuation marks: `\",.'?!()\"`\n",
    "- make every word lowercase\n",
    "\n",
    "Test the function on `test_song` to show that it has successfully removed `'[Kendrick Lamar:]'` and other instances of artist names from the song, and is returning the song as one string (NOT a list of strings) with newlines (`\\n`) and punctuation removed and every word in lowercase."
   ]
  },
  {
   "cell_type": "code",
   "execution_count": 5,
   "metadata": {},
   "outputs": [
    {
     "name": "stdout",
     "output_type": "stream",
     "text": [
      "  t w o   w r o n g s   d o n  t   m a k e   u s   r i g h t   a w a y   t e l l   m e   s o m e t h i n g  s   w r o n g\n"
     ]
    }
   ],
   "source": [
    "import re\n",
    "\n",
    "def clean_song(song):\n",
    "    # Remove lines that contain artist names in square brackets\n",
    "    song = re.sub(r'\\[.*\\]', '', song)\n",
    "    \n",
    "    # Join the list of strings into one big string\n",
    "    song = ' '.join(song)\n",
    "    \n",
    "    # Remove newline characters\n",
    "    song = song.replace('\\n', ' ')\n",
    "    \n",
    "    # Remove punctuation marks: \",.'?!()\"\n",
    "    song = re.sub(r'[\",.\\'?!()]', '', song)\n",
    "    \n",
    "    # Make every word lowercase\n",
    "    song = song.lower()\n",
    "    \n",
    "    return song\n",
    "\n",
    "# Example song for testing\n",
    "test_song = \"[Kendrick Lamar:]\\nTwo wrongs don't make us right away\\nTell me something's wrong\"\n",
    "clean_test_song = clean_song(test_song)\n",
    "print(clean_test_song)\n",
    "\n"
   ]
  },
  {
   "cell_type": "markdown",
   "metadata": {},
   "source": [
    "Great! Now, we can use `nltk`'s `word_tokenize()` function on the song string to get a fully tokenized version of the song. Test this function on `clean_test_song` to ensure that the function works. "
   ]
  },
  {
   "cell_type": "code",
   "execution_count": 6,
   "metadata": {},
   "outputs": [
    {
     "name": "stdout",
     "output_type": "stream",
     "text": [
      "['t', 'w', 'o', 'w', 'r', 'o', 'n', 'g', 's', 'd', 'o', 'n', 't', 'm', 'a', 'k', 'e', 'u', 's', 'r', 'i', 'g', 'h', 't', 'a', 'w', 'a', 'y', 't', 'e', 'l', 'l', 'm', 'e', 's', 'o', 'm', 'e', 't', 'h', 'i', 'n', 'g', 's', 'w', 'r', 'o', 'n', 'g']\n"
     ]
    }
   ],
   "source": [
    "from nltk.tokenize import word_tokenize\n",
    "\n",
    "# Test the word_tokenize() function on clean_test_song\n",
    "tokenized_test_song = word_tokenize(clean_test_song)\n",
    "print(tokenized_test_song)"
   ]
  },
  {
   "cell_type": "markdown",
   "metadata": {},
   "source": [
    "Great! Now that we can tokenize our songs, we can move onto vectorization. \n",
    "\n",
    "\n",
    "### Count Vectorization\n",
    "\n",
    "Machine Learning algorithms don't understand strings. However, they do understand math, which means they understand vectors and matrices.  By **_Vectorizing_** the text, we just convert the entire text into a vector, where each element in the vector represents a different word. The vector is the length of the entire vocabulary -- usually, every word that occurs in the English language, or at least every word that appears in our corpus.  Any given sentence can then be represented as a vector where all the vector is 1 (or some other value) for each time that word appears in the sentence. \n",
    "\n",
    "Consider the following example: \n",
    "\n",
    "<center>\"I scream, you scream, we all scream for ice cream.\"</center>\n",
    "\n",
    "| 'aardvark' | 'apple' | [...] | 'I' | 'you' | 'scream' | 'we' | 'all' | 'for' | 'ice' | 'cream' | [...] | 'xylophone' | 'zebra' |\n",
    "|:----------:|:-------:|:-----:|:---:|:-----:|:--------:|:----:|:-----:|:-----:|:-----:|:-------:|:-----:|:-----------:|:-------:|\n",
    "|      0     |    0    |   0   |  1  |   1   |     3    |   1  |   1   |   1   |   1   |    1    |   0   |      0      |    0    |\n",
    "\n",
    "This is called a **_Sparse Representation_**, since the strong majority of the columns will have a value of 0.  Note that elements corresponding to words that do not occur in the sentence have a value of 0, while words that do appear in the sentence have a value of 1 (or 1 for each time it appears in the sentence).\n",
    "\n",
    "Alternatively, we can represent this sentence as a plain old Python dictionary of word frequency counts:\n",
    "\n",
    "```python\n",
    "BoW = {\n",
    "    'I':1,\n",
    "    'you':1,\n",
    "    'scream':3,\n",
    "    'we':1,\n",
    "    'all':1,\n",
    "    'for':1,\n",
    "    'ice':1,\n",
    "    'cream':1\n",
    "}\n",
    "```\n",
    "\n",
    "Both of these are examples of **_Count Vectorization_**. They allow us to represent a sentence as a vector, with each element in the vector corresponding to how many times that word is used.\n",
    "\n",
    "#### Positional Information and Bag of Words\n",
    "\n",
    "Notice that when we vectorize a sentence this way, we lose the order that the words were in.  This is the **_Bag of Words_** approach mentioned earlier.  Note that sentences that contain the same words will create the same vectors, even if they mean different things -- e.g. `'cats are scared of dogs'` and `'dogs are scared of cats'` would both produce the exact same vector, since they contain the same words.  "
   ]
  },
  {
   "cell_type": "markdown",
   "metadata": {},
   "source": [
    "In the cell below, create a function that takes in a tokenized, cleaned song and returns a count vectorized representation of it as a Python dictionary.\n",
    "\n",
    "**_Hint:_**  Consider using a `set()` since you'll need each unique word in the tokenized song! "
   ]
  },
  {
   "cell_type": "code",
   "execution_count": 7,
   "metadata": {},
   "outputs": [
    {
     "name": "stdout",
     "output_type": "stream",
     "text": [
      "defaultdict(<class 'int'>, {'n': 4, 'g': 4, 'k': 1, 's': 4, 'l': 2, 'y': 1, 'e': 4, 'w': 4, 'm': 3, 'i': 2, 'r': 3, 't': 5, 'o': 5, 'h': 2, 'd': 1, 'a': 3, 'u': 1})\n"
     ]
    }
   ],
   "source": [
    "from collections import defaultdict\n",
    "\n",
    "def count_vectorize(tokenized_song):\n",
    "    # Initialize a defaultdict to store word counts\n",
    "    count_vector = defaultdict(int)\n",
    "    \n",
    "    # Create a set of unique words in the tokenized song\n",
    "    unique_words = set(tokenized_song)\n",
    "    \n",
    "    # Count the occurrences of each unique word in the tokenized song\n",
    "    for word in unique_words:\n",
    "        count_vector[word] = tokenized_song.count(word)\n",
    "    \n",
    "    return count_vector\n",
    "\n",
    "# Example test\n",
    "test_vectorized = count_vectorize(tokenized_test_song)\n",
    "print(test_vectorized)\n"
   ]
  },
  {
   "cell_type": "markdown",
   "metadata": {},
   "source": [
    "Great! You've just successfully vectorized your first text document! Now, let's look at a more advanced type of vectorization, TF-IDF!\n",
    "\n",
    "### TF-IDF Vectorization\n",
    "\n",
    "TF-IDF stands for **_Term Frequency, Inverse Document Frequency_**.  This is a more advanced form of vectorization that weighs each term in a document by how unique it is to the given document it is contained in, which allows us to summarize the contents of a document using a few key words.  If the word is used often in many other documents, it is not unique, and therefore probably not too useful if we wanted to figure out how this document is unique in relation to other documents. Conversely, if a word is used many times in a document, but rarely in all the other documents we are considering, then it is likely a good indicator for telling us that this word is important to the document in question.  \n",
    "\n",
    "The formula TF-IDF uses to determine the weights of each term in a document is **_Term Frequency_** multiplied by **_Inverse Document Frequency_**. We just calculated our Term Frequency above with Count Vectorization!"
   ]
  },
  {
   "cell_type": "markdown",
   "metadata": {},
   "source": [
    "Now that we have this, we can easily calculate _Inverse Document Frequency_. Note that this will need ALL of our documents (aka our songs), not just an individual document - so we'll put off testing this function for now.\n",
    "\n",
    "In the cell below, complete a function that takes in a list of tokenized songs, with each item in the list being a clean, tokenized version of the song. The function should return a dictionary containing the inverse document frequency values for each word.  \n",
    "\n",
    "The formula for Inverse Document Frequency is:  \n",
    "<br>  \n",
    "<br>\n",
    "$$\\large \\text{IDF}(t) =  log_e(\\frac{\\text{Total Number of Documents}}{\\text{Number of Documents with } t \\text{ in it}})$$"
   ]
  },
  {
   "cell_type": "code",
   "execution_count": 8,
   "metadata": {},
   "outputs": [],
   "source": [
    "import math\n",
    "\n",
    "def inverse_document_frequency(list_of_token_songs):\n",
    "    # Initialize a dictionary to store IDF values for each word\n",
    "    idf_dict = {}\n",
    "    \n",
    "    # Total number of documents\n",
    "    total_documents = len(list_of_token_songs)\n",
    "    \n",
    "    # Create a set to keep track of which documents contain each word\n",
    "    word_documents = {}\n",
    "    \n",
    "    # Iterate through each document\n",
    "    for tokenized_song in list_of_token_songs:\n",
    "        # Create a set of unique words in the document\n",
    "        unique_words = set(tokenized_song)\n",
    "        \n",
    "        # Update the word_documents set for each unique word\n",
    "        for word in unique_words:\n",
    "            if word in word_documents:\n",
    "                word_documents[word].add(tokenized_song)\n",
    "            else:\n",
    "                word_documents[word] = {tokenized_song}\n",
    "    \n",
    "    # Calculate IDF for each word\n",
    "    for word, documents_containing_word in word_documents.items():\n",
    "        idf = math.log10(total_documents / len(documents_containing_word))\n",
    "        idf_dict[word] = idf\n",
    "    \n",
    "    return idf_dict\n",
    "\n",
    "# Example usage (you will need a list of tokenized songs)\n",
    "# idf_values = inverse_document_frequency(list_of_token_songs)\n"
   ]
  },
  {
   "cell_type": "markdown",
   "metadata": {},
   "source": [
    "### Computing TF-IDF\n",
    "\n",
    "Now that we can compute both Term Frequency and Inverse Document Frequency, computing an overall TF-IDF value is simple! All we need to do is multiply the two values.  \n",
    "\n",
    "In the cell below, complete the `tf_idf()` function.  This function should take in a list of tokenized songs, just as the `inverse_document_frequency()` function did.  This function returns a new list of dictionaries, with each dictionary containing the tf-idf vectorized representation of a corresponding song document. You'll need to calculate the term frequency for each song using the `count_vectorize()` function we defined above.\n",
    "\n",
    "**_NOTE:_** Each document should contain the full vocabulary of the entire combined corpus! So, even if a song doesn't have the word \"kikiritikiki\" (a vocalization in our test song), it should have a dictionary entry with that word as the key and `0` as the value."
   ]
  },
  {
   "cell_type": "code",
   "execution_count": 9,
   "metadata": {},
   "outputs": [],
   "source": [
    "import math\n",
    "from collections import defaultdict\n",
    "\n",
    "def tf_idf(list_of_token_songs):\n",
    "    # Calculate IDF values for each word in the corpus\n",
    "    idf_dict = inverse_document_frequency(list_of_token_songs)\n",
    "    \n",
    "    # Initialize a list to store TF-IDF representations of songs\n",
    "    tf_idf_list = []\n",
    "    \n",
    "    # Total number of documents\n",
    "    total_documents = len(list_of_token_songs)\n",
    "    \n",
    "    # Iterate through each song\n",
    "    for tokenized_song in list_of_token_songs:\n",
    "        # Calculate the TF values for the current song\n",
    "        tf_vector = count_vectorize(tokenized_song)\n",
    "        \n",
    "        # Initialize a dictionary for the TF-IDF representation of the current song\n",
    "        tf_idf_dict = defaultdict(float)  # Default value is 0.0\n",
    "        \n",
    "        # Calculate TF-IDF values for each word in the song\n",
    "        for word, tf_value in tf_vector.items():\n",
    "            # Calculate TF-IDF: TF * IDF\n",
    "            tf_idf_value = tf_value * idf_dict.get(word, 0.0)  # Use IDF value or default to 0.0 if word not found\n",
    "            tf_idf_dict[word] = tf_idf_value\n",
    "        \n",
    "        # Append the TF-IDF representation of the current song to the list\n",
    "        tf_idf_list.append(dict(tf_idf_dict))\n",
    "    \n",
    "    return tf_idf_list\n",
    "\n",
    "# Example usage (you will need a list of tokenized songs)\n",
    "# tf_idf_representations = tf_idf(list_of_token_songs)\n"
   ]
  },
  {
   "cell_type": "markdown",
   "metadata": {},
   "source": [
    "### Vectorizing All Documents\n",
    "\n",
    "Now that we've created all the necessary helper functions, we can load in all of our documents and run each through the vectorization pipeline we've just created.\n",
    "\n",
    "In the cell below, complete the `main()` function.  This function should take in a list of file names (provided for you in the `filenames` list we created at the start), and then:\n",
    "\n",
    "- Read in each document into a list of raw songs (where each song is a list of strings)\n",
    "- Tokenize each document into a list of cleaned and tokenized songs\n",
    "- Return a list of dictionaries vectorized using `tf-idf`, where each dictionary is a vectorized representation of each song "
   ]
  },
  {
   "cell_type": "code",
   "execution_count": 14,
   "metadata": {},
   "outputs": [],
   "source": [
    "import os\n",
    "\n",
    "# Directory path where the song files are located (assuming they are in a \"data\" subdirectory)\n",
    "directory_path = \"data\"\n",
    "\n",
    "# List comprehension to get all the file names in the directory\n",
    "filenames = [os.path.join(directory_path, filename) for filename in os.listdir(directory_path) if filename.endswith(\".txt\")]\n"
   ]
  },
  {
   "cell_type": "code",
   "execution_count": 18,
   "metadata": {},
   "outputs": [],
   "source": [
    "def main(filenames):\n",
    "    # Initialize a list to store raw songs (each song as a list of strings)\n",
    "    raw_songs_list = []\n",
    "\n",
    "    # Read in each document into a list of raw songs\n",
    "    for filename in filenames:\n",
    "        with open(filename, 'r', encoding='utf-8') as file:\n",
    "            raw_song = file.readlines()\n",
    "            raw_songs_list.append(raw_song)\n",
    "\n",
    "    # Tokenize each document into a list of cleaned and tokenized songs\n",
    "    tokenized_songs_list = [clean_song(' '.join(song)) for song in raw_songs_list]\n",
    "\n",
    "    # Return a list of dictionaries vectorized using tf-idf\n",
    "    tf_idf_representations = tf_idf(tokenized_songs_list)\n",
    "    \n",
    "    return tf_idf_representations\n",
    "\n",
    "# Example usage\n",
    "tf_idf_all_docs = main(filenames)\n"
   ]
  },
  {
   "cell_type": "markdown",
   "metadata": {},
   "source": [
    "### Level Up: Visualizing our Vectorizations (Optional)\n",
    "\n",
    "Now that we have a tf-idf representation of each document, we can move on to the fun part -- visualizing everything!\n",
    "\n",
    "In the cell below, examine our dictionaries to figure out how many dimensions our dataset has. \n",
    "\n",
    "**_HINT_**: Remember that every word is its own dimension!"
   ]
  },
  {
   "cell_type": "code",
   "execution_count": 19,
   "metadata": {},
   "outputs": [
    {
     "name": "stdout",
     "output_type": "stream",
     "text": [
      "Number of Dimensions: 30\n"
     ]
    }
   ],
   "source": [
    "# Choose one of the TF-IDF representations (e.g., the first song's representation)\n",
    "sample_tf_idf = tf_idf_all_docs[0]\n",
    "\n",
    "# Get the number of dimensions by counting the unique words (keys) in the dictionary\n",
    "num_dims = len(sample_tf_idf)\n",
    "\n",
    "print(f\"Number of Dimensions: {num_dims}\")\n"
   ]
  },
  {
   "cell_type": "markdown",
   "metadata": {},
   "source": [
    "There are too many dimensions for us to visualize! In order to make it understandable to human eyes, we'll need to reduce it to 2 or 3 dimensions.  \n",
    "\n",
    "To do this, we'll use a technique called **_t-SNE_** (short for _t-Stochastic Neighbors Embedding_).  This is too complex for us to code ourselves, so we'll make use of scikit-learn's implementation of it.  \n",
    "\n",
    "First, we need to pull the words out of the dictionaries stored in `tf_idf_all_docs` so that only the values remain, and store them in lists instead of dictionaries.  This is because the t-SNE only works with array-like objects, not dictionaries.  \n",
    "\n",
    "In the cell below, create a list of lists that contains a list representation of the values of each of the dictionaries stored in `tf_idf_all_docs`.  The same structure should remain -- e.g. the first list should contain only the values that were in the first dictionary in `tf_idf_all_docs`, and so on. "
   ]
  },
  {
   "cell_type": "code",
   "execution_count": 20,
   "metadata": {},
   "outputs": [
    {
     "name": "stdout",
     "output_type": "stream",
     "text": [
      "[0.0, 0.5440680443502757, 0.8450980400142568, 0.0, 31.73326307361406, 0.0, 0.0, 0.0, 0.0, 0.0]\n"
     ]
    }
   ],
   "source": [
    "# Extract the values from each dictionary and store them in a list of lists\n",
    "tf_idf_vals_list = [list(song_dict.values()) for song_dict in tf_idf_all_docs]\n",
    "\n",
    "# Example: Print the first 10 values of the first song's representation\n",
    "print(tf_idf_vals_list[0][:10])\n"
   ]
  },
  {
   "cell_type": "markdown",
   "metadata": {},
   "source": [
    "Now that we have only the values, we can use the `TSNE()` class from `sklearn` to transform our data appropriately. In the cell below, instantiate `TSNE()` with the following arguments:\n",
    "- `n_components=3` (so we can compare 2 vs 3 components when graphing)\n",
    "- `perplexity=19` (the highest number of neighbors explored given the size of our dataset)\n",
    "- `learning_rate=200` (a higher learning rate than using 'auto', to avoid getting stuck in a local minimum)\n",
    "- `init='random'` (so SKLearn will randomize the initialization)\n",
    "- `random_state=13` (so that random initialization won't be TOO random)\n",
    "\n",
    "Then, use the created object's `.fit_transform()` method to transform the data stored in `tf_idf_vals_list` into 3-dimensional data.  Then, inspect the newly transformed data to confirm that it has the correct dimensionality. "
   ]
  },
  {
   "cell_type": "code",
   "execution_count": 30,
   "metadata": {},
   "outputs": [],
   "source": [
    "from sklearn.feature_extraction.text import TfidfVectorizer\n",
    "from sklearn.manifold import TSNE\n",
    "import numpy as np\n",
    "\n",
    "from collections import Counter\n",
    "import math\n",
    "\n",
    "def tf_idf(list_of_token_songs):\n",
    "    # Create a list to store the TF-IDF representations of songs\n",
    "    tf_idf_representations = []\n",
    "\n",
    "    # Calculate the total number of songs\n",
    "    total_songs = len(list_of_token_songs)\n",
    "\n",
    "    # Create a list to store the document frequencies of each word\n",
    "    doc_frequencies = Counter()\n",
    "\n",
    "    # Calculate the document frequencies\n",
    "    for song in list_of_token_songs:\n",
    "        unique_words = set(song)\n",
    "        doc_frequencies.update(unique_words)\n",
    "\n",
    "    # Calculate the TF-IDF representations for each song\n",
    "    for song in list_of_token_songs:\n",
    "        tf_idf_representation = {}\n",
    "        word_counts = Counter(song)\n",
    "        total_words = len(song)\n",
    "\n",
    "        for word, count in word_counts.items():\n",
    "            # Calculate TF (Term Frequency)\n",
    "            tf = count / total_words\n",
    "\n",
    "            # Calculate IDF (Inverse Document Frequency)\n",
    "            idf = math.log(total_songs / (doc_frequencies[word] + 1))\n",
    "\n",
    "            # Calculate TF-IDF\n",
    "            tf_idf_value = tf * idf\n",
    "\n",
    "            # Store the TF-IDF value in the representation\n",
    "            tf_idf_representation[word] = tf_idf_value\n",
    "\n",
    "        tf_idf_representations.append(tf_idf_representation)\n",
    "\n",
    "    return tf_idf_representations\n",
    "\n",
    "\n",
    "\n",
    "\n"
   ]
  },
  {
   "cell_type": "markdown",
   "metadata": {},
   "source": [
    "We'll also want to check out how the visualization looks in 2d.  Repeat the process above, but this time, instantiate `TSNE()` with 2 components instead of 3.  Again, use `.fit_transform()` to transform the data and store it in the variable below, and then inspect it to confirm the transformed data has only 2 dimensions. "
   ]
  },
  {
   "cell_type": "code",
   "execution_count": 36,
   "metadata": {
    "scrolled": false
   },
   "outputs": [
    {
     "data": {
      "text/plain": [
       "array([[ 4.0460346e+01,  3.4182117e+00],\n",
       "       [ 9.9807215e+00,  3.6459179e+01],\n",
       "       [ 2.0305151e+01,  1.5964236e+01],\n",
       "       [ 1.1960804e+01,  4.4829906e+01],\n",
       "       [-5.3206627e+01, -7.1542439e+00],\n",
       "       [ 1.3412737e+01,  1.0734321e+01],\n",
       "       [-3.9367794e+01,  2.1730465e+01],\n",
       "       [-2.6485462e+01, -2.4167418e+00],\n",
       "       [-1.2100647e+01, -4.1090939e+01],\n",
       "       [ 3.4264698e+01,  2.0745800e+01],\n",
       "       [ 1.4585128e+01,  2.4478769e+00],\n",
       "       [-3.5819824e+01,  2.9560381e+01],\n",
       "       [ 4.8666679e+01, -3.0255866e+00],\n",
       "       [-5.6029296e+00,  1.3332337e+01],\n",
       "       [-1.9111547e+01,  4.9189709e+01],\n",
       "       [ 6.4738251e+01,  2.4315940e-01],\n",
       "       [ 2.3038130e+01, -1.9711161e+01],\n",
       "       [ 5.1691032e+01,  2.4099829e+01],\n",
       "       [-3.6239495e+00, -3.9641006e+01],\n",
       "       [-4.7754330e+01, -9.9539781e-01],\n",
       "       [-4.1661888e+01, -3.1210737e+01],\n",
       "       [-2.7292929e+01, -1.0934088e+01],\n",
       "       [-2.4788666e-01, -6.2915802e+00],\n",
       "       [ 5.0990135e+01,  5.1859183e+00],\n",
       "       [-1.1276495e+01,  5.1849449e+01],\n",
       "       [ 1.8461855e+01,  3.5346386e+01],\n",
       "       [-1.2905924e+01,  4.3749989e+01],\n",
       "       [ 4.7453861e+01, -1.8444994e+01],\n",
       "       [ 3.9992081e+01, -5.0046835e+00],\n",
       "       [ 1.8155508e+01, -3.0231236e+01],\n",
       "       [ 2.0210121e+01, -5.3690609e+01],\n",
       "       [ 2.6569519e+01, -5.2028469e+01],\n",
       "       [-3.2234099e+00,  2.1168497e+01],\n",
       "       [ 1.5026016e+01, -2.2379618e+01],\n",
       "       [-5.4837637e+00, -3.1268013e+01],\n",
       "       [ 2.2776302e+01, -1.3867801e-01],\n",
       "       [-1.1024405e+01,  1.9276054e+01],\n",
       "       [ 2.6313334e+01, -2.7560150e+01],\n",
       "       [ 4.4423164e+01,  1.0791097e+01],\n",
       "       [ 8.0063008e-04, -1.2665015e+01],\n",
       "       [-3.7393551e+01, -3.6082638e+01],\n",
       "       [-2.8223459e+01,  2.5593685e+01],\n",
       "       [-1.8875048e+01, -1.1192273e+01],\n",
       "       [-1.3902643e+01, -3.2675808e+01],\n",
       "       [ 2.0526451e+01,  4.3636322e+01],\n",
       "       [-5.5769394e+01,  7.7181679e-01],\n",
       "       [ 2.3709116e+01,  8.2593479e+00],\n",
       "       [-3.1724483e+01,  1.7813387e+01],\n",
       "       [-1.8090290e+01, -2.7005742e+00]], dtype=float32)"
      ]
     },
     "execution_count": 36,
     "metadata": {},
     "output_type": "execute_result"
    }
   ],
   "source": [
    "from sklearn.manifold import TSNE\n",
    "import numpy as np\n",
    "\n",
    "\n",
    "# Create a list of dictionaries containing TF-IDF values for each song\n",
    "tf_idf_vals_list = tf_idf(tokenized_test_song)\n",
    "\n",
    "# Convert the list of dictionaries to a NumPy 2D array\n",
    "all_words = set(word for tfidf_values in tf_idf_vals_list for word in tfidf_values)\n",
    "data_matrix = np.zeros((len(tf_idf_vals_list), len(all_words)))\n",
    "\n",
    "# Fill in the data matrix with TF-IDF values\n",
    "for i, song_dict in enumerate(tf_idf_vals_list):\n",
    "    for word, tfidf_value in song_dict.items():\n",
    "        j = list(all_words).index(word)  # Find the column index for the word\n",
    "        data_matrix[i, j] = tfidf_value\n",
    "\n",
    "# Instantiate TSNE with 2 components for 2D visualization\n",
    "t_sne_object_2d = TSNE(n_components=2, perplexity=19, learning_rate=200, init='random', random_state=13)\n",
    "\n",
    "# Transform the data into 2-dimensional space\n",
    "transformed_data_2d = t_sne_object_2d.fit_transform(data_matrix)\n",
    "\n",
    "# Inspect the transformed data (2D)\n",
    "transformed_data_2d\n",
    "\n",
    "\n"
   ]
  },
  {
   "cell_type": "markdown",
   "metadata": {},
   "source": [
    "Now, let's visualize everything!  Run the cell below to view both 3D and 2D visualizations of the songs."
   ]
  },
  {
   "cell_type": "code",
   "execution_count": 37,
   "metadata": {},
   "outputs": [
    {
     "ename": "NameError",
     "evalue": "name 'transformed_data_3d' is not defined",
     "output_type": "error",
     "traceback": [
      "\u001b[1;31m---------------------------------------------------------------------------\u001b[0m",
      "\u001b[1;31mNameError\u001b[0m                                 Traceback (most recent call last)",
      "Cell \u001b[1;32mIn[37], line 1\u001b[0m\n\u001b[1;32m----> 1\u001b[0m kendrick_3d \u001b[38;5;241m=\u001b[39m \u001b[43mtransformed_data_3d\u001b[49m[:\u001b[38;5;241m10\u001b[39m]\n\u001b[0;32m      2\u001b[0m k3_x \u001b[38;5;241m=\u001b[39m [i[\u001b[38;5;241m0\u001b[39m] \u001b[38;5;28;01mfor\u001b[39;00m i \u001b[38;5;129;01min\u001b[39;00m kendrick_3d]\n\u001b[0;32m      3\u001b[0m k3_y \u001b[38;5;241m=\u001b[39m [i[\u001b[38;5;241m1\u001b[39m] \u001b[38;5;28;01mfor\u001b[39;00m i \u001b[38;5;129;01min\u001b[39;00m kendrick_3d]\n",
      "\u001b[1;31mNameError\u001b[0m: name 'transformed_data_3d' is not defined"
     ]
    }
   ],
   "source": [
    "kendrick_3d = transformed_data_3d[:10]\n",
    "k3_x = [i[0] for i in kendrick_3d]\n",
    "k3_y = [i[1] for i in kendrick_3d]\n",
    "k3_z = [i[2] for i in kendrick_3d]\n",
    "\n",
    "garth_3d = transformed_data_3d[10:]\n",
    "g3_x = [i[0] for i in garth_3d]\n",
    "g3_y = [i[1] for i in garth_3d]\n",
    "g3_z = [i[2] for i in garth_3d]\n",
    "\n",
    "fig = plt.figure(figsize=(10,5))\n",
    "ax = fig.add_subplot(111, projection='3d')\n",
    "ax.scatter(k3_x, k3_y, k3_z, c='b', s=60, label='Kendrick')\n",
    "ax.scatter(g3_x, g3_y, g3_z, c='red', s=60, label='Garth')\n",
    "ax.view_init(40,10)\n",
    "ax.legend()\n",
    "plt.show()\n",
    "\n",
    "kendrick_2d = transformed_data_2d[:10]\n",
    "k2_x = [i[0] for i in kendrick_2d]\n",
    "k2_y = [i[1] for i in kendrick_2d]\n",
    "\n",
    "garth_2d = transformed_data_2d[10:]\n",
    "g2_x = [i[0] for i in garth_2d]\n",
    "g2_y = [i[1] for i in garth_2d]\n",
    "\n",
    "fig = plt.figure(figsize=(20,10))\n",
    "ax = fig.add_subplot(222)\n",
    "ax.scatter(k2_x, k2_y, c='b', label='Kendrick')\n",
    "ax.scatter(g2_x, g2_y, c='red', label='Garth')\n",
    "ax.legend()\n",
    "plt.show()"
   ]
  },
  {
   "cell_type": "code",
   "execution_count": 38,
   "metadata": {},
   "outputs": [
    {
     "data": {
      "image/png": "[encoded data removed]",
      "text/plain": [
       "<Figure size 2000x1000 with 1 Axes>"
      ]
     },
     "metadata": {},
     "output_type": "display_data"
    }
   ],
   "source": [
    "kendrick_2d = transformed_data_2d[:10]\n",
    "k2_x = [i[0] for i in kendrick_2d]\n",
    "k2_y = [i[1] for i in kendrick_2d]\n",
    "\n",
    "garth_2d = transformed_data_2d[10:]\n",
    "g2_x = [i[0] for i in garth_2d]\n",
    "g2_y = [i[1] for i in garth_2d]\n",
    "\n",
    "fig = plt.figure(figsize=(20, 10))\n",
    "ax = fig.add_subplot(222)\n",
    "ax.scatter(k2_x, k2_y, c='b', label='Kendrick')\n",
    "ax.scatter(g2_x, g2_y, c='red', label='Garth')\n",
    "ax.legend()\n",
    "plt.show()\n"
   ]
  },
  {
   "cell_type": "markdown",
   "metadata": {},
   "source": [
    "Interesting! Take a crack at interpreting these graphs by answering the following questions below:\n",
    "\n",
    "What does each graph mean? Do you find one graph more informative than the other? Do you think that this method shows us discernable differences between Kendrick Lamar songs and Garth Brooks songs?  Use the graphs and your understanding of TF-IDF to support your answer.  "
   ]
  },
  {
   "cell_type": "code",
   "execution_count": null,
   "metadata": {},
   "outputs": [],
   "source": [
    "'''\n",
    "WRITE YOUR ANSWER HERE\n",
    "'''"
   ]
  },
  {
   "cell_type": "markdown",
   "metadata": {},
   "source": [
    "## Summary\n",
    "\n",
    "In this lab, you learned how to: \n",
    "* Tokenize a corpus of words and identify the different choices to be made while parsing them \n",
    "* Use a count vectorization strategy to create a bag of words\n",
    "* Use TF-IDF vectorization with multiple documents to identify words that are important/unique to certain documents\n",
    "* Visualize and compare vectorized text documents"
   ]
  }
 ],
 "metadata": {
  "kernelspec": {
   "display_name": "Python 3 (ipykernel)",
   "language": "python",
   "name": "python3"
  },
  "language_info": {
   "codemirror_mode": {
    "name": "ipython",
    "version": 3
   },
   "file_extension": ".py",
   "mimetype": "text/x-python",
   "name": "python",
   "nbconvert_exporter": "python",
   "pygments_lexer": "ipython3",
   "version": "3.10.11"
  }
 },
 "nbformat": 4,
 "nbformat_minor": 2
}
